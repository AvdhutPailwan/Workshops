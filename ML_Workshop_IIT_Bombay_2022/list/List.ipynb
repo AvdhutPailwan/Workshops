{
 "cells": [
  {
   "cell_type": "code",
   "execution_count": 4,
   "id": "e3b54eb9",
   "metadata": {},
   "outputs": [],
   "source": [
    "# List\n",
    "a=[12,8.9,\"abc\",True]"
   ]
  },
  {
   "cell_type": "code",
   "execution_count": 5,
   "id": "5278e9e4",
   "metadata": {},
   "outputs": [
    {
     "data": {
      "text/plain": [
       "list"
      ]
     },
     "execution_count": 5,
     "metadata": {},
     "output_type": "execute_result"
    }
   ],
   "source": [
    "type(a)"
   ]
  },
  {
   "cell_type": "code",
   "execution_count": 6,
   "id": "ede0a025",
   "metadata": {},
   "outputs": [
    {
     "data": {
      "text/plain": [
       "[12, 8.9, 'abc', True]"
      ]
     },
     "execution_count": 6,
     "metadata": {},
     "output_type": "execute_result"
    }
   ],
   "source": [
    "a"
   ]
  },
  {
   "cell_type": "code",
   "execution_count": 9,
   "id": "799b481c",
   "metadata": {},
   "outputs": [
    {
     "data": {
      "text/plain": [
       "(12, 12)"
      ]
     },
     "execution_count": 9,
     "metadata": {},
     "output_type": "execute_result"
    }
   ],
   "source": [
    "a[0],a[-4]"
   ]
  },
  {
   "cell_type": "code",
   "execution_count": 10,
   "id": "b21ca976",
   "metadata": {},
   "outputs": [
    {
     "data": {
      "text/plain": [
       "'a'"
      ]
     },
     "execution_count": 10,
     "metadata": {},
     "output_type": "execute_result"
    }
   ],
   "source": [
    "a[2][-3]"
   ]
  },
  {
   "cell_type": "code",
   "execution_count": null,
   "id": "9aade18e",
   "metadata": {},
   "outputs": [],
   "source": []
  }
 ],
 "metadata": {
  "kernelspec": {
   "display_name": "Python 3 (ipykernel)",
   "language": "python",
   "name": "python3"
  },
  "language_info": {
   "codemirror_mode": {
    "name": "ipython",
    "version": 3
   },
   "file_extension": ".py",
   "mimetype": "text/x-python",
   "name": "python",
   "nbconvert_exporter": "python",
   "pygments_lexer": "ipython3",
   "version": "3.10.5"
  }
 },
 "nbformat": 4,
 "nbformat_minor": 5
}
